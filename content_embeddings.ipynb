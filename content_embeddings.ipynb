{
 "cells": [
  {
   "cell_type": "code",
   "execution_count": 1,
   "id": "204daa73-1c95-46c8-9520-716ae90924e2",
   "metadata": {},
   "outputs": [],
   "source": [
    "import pandas as pd\n",
    "import numpy as np\n",
    "from torch import nn\n",
    "import torch\n",
    "import time\n",
    "\n",
    "from sklearn.model_selection import train_test_split"
   ]
  },
  {
   "cell_type": "markdown",
   "id": "953dbb9d-5bef-484a-bb42-69a7ed339c9f",
   "metadata": {},
   "source": [
    "### Get Categorical One-Hot "
   ]
  },
  {
   "cell_type": "code",
   "execution_count": 2,
   "id": "90971444-c6b8-4315-9913-ffe1278c37a5",
   "metadata": {},
   "outputs": [
    {
     "data": {
      "text/html": [
       "<div>\n",
       "<style scoped>\n",
       "    .dataframe tbody tr th:only-of-type {\n",
       "        vertical-align: middle;\n",
       "    }\n",
       "\n",
       "    .dataframe tbody tr th {\n",
       "        vertical-align: top;\n",
       "    }\n",
       "\n",
       "    .dataframe thead th {\n",
       "        text-align: right;\n",
       "    }\n",
       "</style>\n",
       "<table border=\"1\" class=\"dataframe\">\n",
       "  <thead>\n",
       "    <tr style=\"text-align: right;\">\n",
       "      <th></th>\n",
       "      <th>Account Id</th>\n",
       "      <th>Review Link</th>\n",
       "      <th>Tea Name</th>\n",
       "      <th>Aroma Rating</th>\n",
       "      <th>Flavor Rating</th>\n",
       "      <th>Value Rating</th>\n",
       "      <th>Total Rating</th>\n",
       "      <th>Brand</th>\n",
       "      <th>Style</th>\n",
       "      <th>Region</th>\n",
       "      <th>Caffeine</th>\n",
       "      <th>Loose Type</th>\n",
       "      <th>Product page</th>\n",
       "    </tr>\n",
       "  </thead>\n",
       "  <tbody>\n",
       "    <tr>\n",
       "      <th>0</th>\n",
       "      <td>1</td>\n",
       "      <td>https://ratetea.com//review/6625/</td>\n",
       "      <td>Classic Robust Jin Jun Mei Black Tea of Fujian</td>\n",
       "      <td>10</td>\n",
       "      <td>5</td>\n",
       "      <td>5</td>\n",
       "      <td>100</td>\n",
       "      <td>Yunnan Sourcing</td>\n",
       "      <td>Black Tea</td>\n",
       "      <td>Wuyi, Fujian, China</td>\n",
       "      <td>Caffeinated</td>\n",
       "      <td>Loose</td>\n",
       "      <td>https://yunnansourcing.com/products/classic-ro...</td>\n",
       "    </tr>\n",
       "    <tr>\n",
       "      <th>1</th>\n",
       "      <td>1</td>\n",
       "      <td>https://ratetea.com//review/6189/</td>\n",
       "      <td>Wu Liang Hong Mao Feng Yunnan Black Tea</td>\n",
       "      <td>10</td>\n",
       "      <td>5</td>\n",
       "      <td>5</td>\n",
       "      <td>100</td>\n",
       "      <td>Yunnan Sourcing</td>\n",
       "      <td>Yunnan Gold</td>\n",
       "      <td>Simao, Yunnan, China</td>\n",
       "      <td>Caffeinated</td>\n",
       "      <td>Loose</td>\n",
       "      <td>https://yunnansourcing.com/products/wu-liang-h...</td>\n",
       "    </tr>\n",
       "    <tr>\n",
       "      <th>2</th>\n",
       "      <td>1</td>\n",
       "      <td>https://ratetea.com//review/5755/</td>\n",
       "      <td>Jingmai Mountain Wild Arbor Black Tea of Sprin...</td>\n",
       "      <td>10</td>\n",
       "      <td>5</td>\n",
       "      <td>5</td>\n",
       "      <td>100</td>\n",
       "      <td>Yunnan Sourcing</td>\n",
       "      <td>Yunnan Gold</td>\n",
       "      <td>Lancang, Yunnan, China</td>\n",
       "      <td>Caffeinated</td>\n",
       "      <td>Loose</td>\n",
       "      <td>https://yunnansourcing.com/products/jingmai-mo...</td>\n",
       "    </tr>\n",
       "    <tr>\n",
       "      <th>3</th>\n",
       "      <td>1</td>\n",
       "      <td>https://ratetea.com//review/4567/</td>\n",
       "      <td>Black King</td>\n",
       "      <td>10</td>\n",
       "      <td>5</td>\n",
       "      <td>5</td>\n",
       "      <td>100</td>\n",
       "      <td>Harney and Sons</td>\n",
       "      <td>Black Tea</td>\n",
       "      <td>Hunan, China</td>\n",
       "      <td>Caffeinated</td>\n",
       "      <td>Loose</td>\n",
       "      <td>https://www.harney.com/products/black-king?var...</td>\n",
       "    </tr>\n",
       "    <tr>\n",
       "      <th>4</th>\n",
       "      <td>1</td>\n",
       "      <td>https://ratetea.com//review/4203/</td>\n",
       "      <td>Ruby Black Tea (Whole Leaf)</td>\n",
       "      <td>10</td>\n",
       "      <td>5</td>\n",
       "      <td>5</td>\n",
       "      <td>100</td>\n",
       "      <td>Health &amp; Tea</td>\n",
       "      <td>Black Tea</td>\n",
       "      <td>Taiwan / Formosa</td>\n",
       "      <td>Caffeinated</td>\n",
       "      <td>Loose</td>\n",
       "      <td>https://www.healthandtea.com/product/ruby-blac...</td>\n",
       "    </tr>\n",
       "  </tbody>\n",
       "</table>\n",
       "</div>"
      ],
      "text/plain": [
       "   Account Id                        Review Link  \\\n",
       "0           1  https://ratetea.com//review/6625/   \n",
       "1           1  https://ratetea.com//review/6189/   \n",
       "2           1  https://ratetea.com//review/5755/   \n",
       "3           1  https://ratetea.com//review/4567/   \n",
       "4           1  https://ratetea.com//review/4203/   \n",
       "\n",
       "                                            Tea Name  Aroma Rating  \\\n",
       "0     Classic Robust Jin Jun Mei Black Tea of Fujian            10   \n",
       "1            Wu Liang Hong Mao Feng Yunnan Black Tea            10   \n",
       "2  Jingmai Mountain Wild Arbor Black Tea of Sprin...            10   \n",
       "3                                         Black King            10   \n",
       "4                        Ruby Black Tea (Whole Leaf)            10   \n",
       "\n",
       "   Flavor Rating  Value Rating  Total Rating            Brand        Style  \\\n",
       "0              5             5           100  Yunnan Sourcing    Black Tea   \n",
       "1              5             5           100  Yunnan Sourcing  Yunnan Gold   \n",
       "2              5             5           100  Yunnan Sourcing  Yunnan Gold   \n",
       "3              5             5           100  Harney and Sons    Black Tea   \n",
       "4              5             5           100     Health & Tea    Black Tea   \n",
       "\n",
       "                   Region     Caffeine Loose Type  \\\n",
       "0     Wuyi, Fujian, China  Caffeinated      Loose   \n",
       "1    Simao, Yunnan, China  Caffeinated      Loose   \n",
       "2  Lancang, Yunnan, China  Caffeinated      Loose   \n",
       "3            Hunan, China  Caffeinated      Loose   \n",
       "4        Taiwan / Formosa  Caffeinated      Loose   \n",
       "\n",
       "                                        Product page  \n",
       "0  https://yunnansourcing.com/products/classic-ro...  \n",
       "1  https://yunnansourcing.com/products/wu-liang-h...  \n",
       "2  https://yunnansourcing.com/products/jingmai-mo...  \n",
       "3  https://www.harney.com/products/black-king?var...  \n",
       "4  https://www.healthandtea.com/product/ruby-blac...  "
      ]
     },
     "execution_count": 2,
     "metadata": {},
     "output_type": "execute_result"
    }
   ],
   "source": [
    "df  = pd.read_csv('data/tea_data.csv')\n",
    "df.head()"
   ]
  },
  {
   "cell_type": "code",
   "execution_count": 4,
   "id": "8b14a8fd-34ff-4bf3-b627-7e81a60564ab",
   "metadata": {},
   "outputs": [],
   "source": [
    "cat_data = df[['Brand', 'Style', 'Region', 'Caffeine', 'Loose Type']]"
   ]
  },
  {
   "cell_type": "code",
   "execution_count": 5,
   "id": "abdc108f-886a-41cd-b59e-4a80e8f4b3ce",
   "metadata": {},
   "outputs": [],
   "source": [
    "one_hot_data = pd.get_dummies(cat_data, dtype=np.int64).to_numpy()"
   ]
  },
  {
   "cell_type": "markdown",
   "id": "ba72708c-caba-44a9-9f41-d4dd0e62901b",
   "metadata": {},
   "source": [
    "### Train Embeddings"
   ]
  },
  {
   "cell_type": "code",
   "execution_count": 6,
   "id": "6533aa56-0411-443d-9635-cf09c859a3a7",
   "metadata": {},
   "outputs": [],
   "source": [
    "class Autoencoder(nn.Module):\n",
    "    def __init__(self, input_dim, embedding_dim = 5, div_value = 10):\n",
    "        super(Autoencoder, self).__init__()\n",
    "        d1 = input_dim // div_value\n",
    "        d2 = d1 // div_value\n",
    "        \n",
    "        self.encoding = nn.Sequential(\n",
    "            nn.Linear(input_dim, d1),\n",
    "            nn.ReLU(),\n",
    "            nn.Linear(d1, d2),\n",
    "            nn.ReLU(),\n",
    "            nn.Linear(d2, embedding_dim), # bottleneck\n",
    "            nn.ReLU()\n",
    "        )\n",
    "\n",
    "        self.decoding = nn.Sequential(\n",
    "            nn.Linear(embedding_dim, d2),\n",
    "            nn.ReLU(),\n",
    "            nn.Linear(d2, d1),\n",
    "            nn.ReLU(),\n",
    "            nn.Linear(d1, input_dim)\n",
    "        )\n",
    "    def forward(self, x):\n",
    "        encode = self.encoding(x)\n",
    "        decode = self.decoding(encode)\n",
    "        return encode, decode"
   ]
  },
  {
   "cell_type": "code",
   "execution_count": 7,
   "id": "9e66001b-8bc9-438a-88f0-1860eeff8c97",
   "metadata": {},
   "outputs": [],
   "source": [
    "batch_size = 4\n",
    "\n",
    "X_train, X_val = train_test_split(one_hot_data, test_size=0.1, random_state=42)\n",
    "\n",
    "X_train_tensor = torch.tensor(X_train, dtype=torch.float32)\n",
    "X_val_tensor = torch.tensor(X_val, dtype=torch.float32)\n",
    "\n",
    "train_loader = torch.utils.data.DataLoader(X_train_tensor, batch_size=batch_size, shuffle=True)"
   ]
  },
  {
   "cell_type": "code",
   "execution_count": 8,
   "id": "62238780-1a3b-463c-997f-0b5cb73dca08",
   "metadata": {},
   "outputs": [],
   "source": [
    "embedding_dim = 4\n",
    "epochs = 30\n",
    "\n",
    "model = Autoencoder(input_dim=one_hot_data.shape[1], embedding_dim=embedding_dim)\n",
    "criterion = nn.MSELoss()\n",
    "optimizer = torch.optim.Adam(model.parameters(), lr=1e-3)"
   ]
  },
  {
   "cell_type": "code",
   "execution_count": 9,
   "id": "27a3219b-1aca-4a54-8ab1-0789e19607bd",
   "metadata": {
    "scrolled": true
   },
   "outputs": [
    {
     "name": "stdout",
     "output_type": "stream",
     "text": [
      "Epoch 1, Loss: 5.6819, Time: 13.2228 sec\n",
      "Epoch 2, Loss: 4.6692, Time: 15.0034 sec\n",
      "Epoch 3, Loss: 4.4582, Time: 15.7491 sec\n",
      "Epoch 4, Loss: 4.3490, Time: 16.2621 sec\n",
      "Epoch 5, Loss: 4.2616, Time: 16.4592 sec\n",
      "Epoch 6, Loss: 4.1822, Time: 15.4008 sec\n",
      "Epoch 7, Loss: 4.1146, Time: 15.8497 sec\n",
      "Epoch 8, Loss: 4.0621, Time: 15.4078 sec\n",
      "Epoch 9, Loss: 4.0273, Time: 15.6067 sec\n",
      "Epoch 10, Loss: 4.0034, Time: 15.8946 sec\n",
      "Epoch 11, Loss: 3.9840, Time: 16.2450 sec\n",
      "Epoch 12, Loss: 3.9661, Time: 16.4243 sec\n",
      "Epoch 13, Loss: 3.9496, Time: 16.2223 sec\n",
      "Epoch 14, Loss: 3.9345, Time: 16.6035 sec\n",
      "Epoch 15, Loss: 3.9204, Time: 16.2486 sec\n",
      "Epoch 16, Loss: 3.9088, Time: 16.3157 sec\n",
      "Epoch 17, Loss: 3.8920, Time: 16.1428 sec\n",
      "Epoch 18, Loss: 3.8826, Time: 16.7793 sec\n",
      "Epoch 19, Loss: 3.8709, Time: 17.5982 sec\n",
      "Epoch 20, Loss: 3.8608, Time: 18.6465 sec\n",
      "Epoch 21, Loss: 3.8514, Time: 17.7480 sec\n",
      "Epoch 22, Loss: 3.8426, Time: 17.1709 sec\n",
      "Epoch 23, Loss: 3.8325, Time: 17.5690 sec\n",
      "Epoch 24, Loss: 3.8217, Time: 17.5437 sec\n",
      "Epoch 25, Loss: 3.8139, Time: 17.5969 sec\n",
      "Epoch 26, Loss: 3.8053, Time: 17.5888 sec\n",
      "Epoch 27, Loss: 3.7961, Time: 17.8281 sec\n",
      "Epoch 28, Loss: 3.7918, Time: 17.7322 sec\n",
      "Epoch 29, Loss: 3.7820, Time: 17.8941 sec\n",
      "Epoch 30, Loss: 3.7753, Time: 18.2538 sec\n"
     ]
    }
   ],
   "source": [
    "for epoch in range(epochs):\n",
    "    start_time = time.time()\n",
    "    model.train()\n",
    "    total_loss = 0\n",
    "    for batch in train_loader:\n",
    "        encode, decode = model(batch)\n",
    "        loss = criterion(decode, batch)\n",
    "        optimizer.zero_grad()\n",
    "        loss.backward()\n",
    "        optimizer.step()\n",
    "        total_loss += loss.item()\n",
    "    end_time = time.time()\n",
    "    print(f\"Epoch {epoch + 1}, Loss: {total_loss:.4f}, Time: {end_time-start_time:.4f} sec\")"
   ]
  },
  {
   "cell_type": "markdown",
   "id": "8803b85d-7807-442f-b817-b9822fa97ab6",
   "metadata": {},
   "source": [
    "### Get Embeddings for all Teas"
   ]
  },
  {
   "cell_type": "code",
   "execution_count": 10,
   "id": "3c5e53b5-e57b-4a62-b3e4-15a1b2ddbc85",
   "metadata": {},
   "outputs": [],
   "source": [
    "one_hot_tensor = torch.tensor(one_hot_data, dtype=torch.float32)"
   ]
  },
  {
   "cell_type": "code",
   "execution_count": 11,
   "id": "d3942cd4-d01c-4282-877a-1dbdfd1fbd09",
   "metadata": {
    "scrolled": true
   },
   "outputs": [
    {
     "data": {
      "text/plain": [
       "torch.Size([5346, 709])"
      ]
     },
     "execution_count": 11,
     "metadata": {},
     "output_type": "execute_result"
    }
   ],
   "source": [
    "one_hot_tensor.shape"
   ]
  },
  {
   "cell_type": "code",
   "execution_count": 12,
   "id": "c59d3765-2fdb-41a6-ba90-494135071314",
   "metadata": {},
   "outputs": [],
   "source": [
    "embeds = []\n",
    "for tea in one_hot_tensor:\n",
    "    with torch.no_grad():\n",
    "        embed, _ = model(tea)\n",
    "        embeds.append(embed)\n",
    "embeds = np.stack(embeds)"
   ]
  },
  {
   "cell_type": "markdown",
   "id": "ca5375c2-2da7-45a0-88bf-15258f71c1dc",
   "metadata": {},
   "source": [
    "Save Embeddings"
   ]
  },
  {
   "cell_type": "code",
   "execution_count": 13,
   "id": "e45eb7b1-0af7-4c4e-b665-0bfaa7354da8",
   "metadata": {},
   "outputs": [],
   "source": [
    "pd.DataFrame(embeds).to_csv('data/content_embeddings.csv', header=False, index=False)"
   ]
  }
 ],
 "metadata": {
  "kernelspec": {
   "display_name": "Python 3 (ipykernel)",
   "language": "python",
   "name": "python3"
  },
  "language_info": {
   "codemirror_mode": {
    "name": "ipython",
    "version": 3
   },
   "file_extension": ".py",
   "mimetype": "text/x-python",
   "name": "python",
   "nbconvert_exporter": "python",
   "pygments_lexer": "ipython3",
   "version": "3.12.8"
  }
 },
 "nbformat": 4,
 "nbformat_minor": 5
}
