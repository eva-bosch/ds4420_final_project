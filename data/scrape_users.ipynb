{
 "cells": [
  {
   "cell_type": "code",
   "execution_count": 1,
   "id": "542ed4ee-023b-4266-b22c-b9dead3c731e",
   "metadata": {},
   "outputs": [],
   "source": [
    "from bs4 import BeautifulSoup\n",
    "import requests\n",
    "import pandas as pd\n",
    "import math\n",
    "import csv"
   ]
  },
  {
   "cell_type": "markdown",
   "id": "94d17776-092e-4979-ac9e-454caa00372b",
   "metadata": {},
   "source": [
    "<br></br>"
   ]
  },
  {
   "cell_type": "markdown",
   "id": "ef823599-7ec7-4139-a376-0f2c1b49250e",
   "metadata": {},
   "source": [
    "# Get a list of first 50 uesrs"
   ]
  },
  {
   "cell_type": "code",
   "execution_count": 2,
   "id": "763809aa-0914-4dd4-8c4a-b10fee11a038",
   "metadata": {},
   "outputs": [],
   "source": [
    "all_account_ids = []"
   ]
  },
  {
   "cell_type": "code",
   "execution_count": 3,
   "id": "d79a6ccd-f36a-4cd5-9f7d-ebd7fec74a91",
   "metadata": {},
   "outputs": [],
   "source": [
    "num_user_pages = 5 \n",
    "\n",
    "for page in range(num_user_pages):\n",
    "    url = f'https://ratetea.com/people.php?&start={page*10}#page'\n",
    "    user_info = requests.get(url)\n",
    "    soup_info = BeautifulSoup(user_info.content, 'html.parser')\n",
    "    account_ids=[a['href'].split('=')[1] for a in soup_info.select('a[href]') if a['href'].startswith('/profile/?account_id=')]\n",
    "    all_account_ids += account_ids"
   ]
  },
  {
   "cell_type": "code",
   "execution_count": 5,
   "id": "759209ce-d568-4e8f-9e27-fb6b2800cd92",
   "metadata": {},
   "outputs": [
    {
     "data": {
      "text/plain": [
       "50"
      ]
     },
     "execution_count": 5,
     "metadata": {},
     "output_type": "execute_result"
    }
   ],
   "source": [
    "len(all_account_ids)"
   ]
  },
  {
   "cell_type": "markdown",
   "id": "239e4df7-67d4-42d8-9b55-4337be0a702a",
   "metadata": {},
   "source": [
    "<br></br>"
   ]
  },
  {
   "cell_type": "markdown",
   "id": "386f516f-3905-4c6c-b316-c5ad637faa51",
   "metadata": {},
   "source": [
    "# Get Tea Data for all Users"
   ]
  },
  {
   "cell_type": "code",
   "execution_count": 6,
   "id": "7cc04131-bb4f-45a0-a0ae-9556666a73c1",
   "metadata": {},
   "outputs": [],
   "source": [
    "all_tea_data = []"
   ]
  },
  {
   "cell_type": "code",
   "execution_count": null,
   "id": "a9aa59dc-90ba-40f2-8c7c-aaf3f6babd82",
   "metadata": {},
   "outputs": [
    {
     "name": "stdout",
     "output_type": "stream",
     "text": [
      "User 1 added successfully; 1 / 730\n",
      "User 2282 added successfully; 2 / 210\n",
      "User 833 added successfully; 3 / 170\n",
      "User 1398 added successfully; 4 / 170\n"
     ]
    }
   ],
   "source": [
    "it = 0\n",
    "# for account_id in all_account_ids:\n",
    "for account_id in all_account_ids:\n",
    "    it += 1\n",
    "    try:\n",
    "        # first page ratings\n",
    "        url = 'https://ratetea.com/profile/ratings.php?account_id={}&brand_id=0&style_id=0&region_id=0&organic=&fairtrade=&loose=&caffeine=&o1=&start={}#page'\n",
    "        r = requests.get(url.format(account_id, 0))\n",
    "        soup = BeautifulSoup(r.content, 'html.parser')\n",
    "        \n",
    "        # get total number of pages\n",
    "        s = soup.find('p')\n",
    "        num_reviews = int(str(s).split('Reviewed ')[1].split(' tea')[0])\n",
    "        num_pages = math.ceil(num_reviews/20) # if num pages x, then there are 0-19, 20-40, ..., x*20 -\n",
    "       \n",
    "        # get data from all pages\n",
    "        for page_id in range(num_pages):\n",
    "            start_page = page_id * 20\n",
    "            \n",
    "            # get page data\n",
    "            url = 'https://ratetea.com/profile/ratings.php?account_id={}&brand_id=0&style_id=0&region_id=0&organic=&fairtrade=&loose=&caffeine=&o1=&start={}#page'\n",
    "            r = requests.get(url.format(account_id, start_page))\n",
    "            soup = BeautifulSoup(r.content, 'html.parser')\n",
    "            \n",
    "            # get Account Id, Tea Link, Tea Name\n",
    "            tea_data = [[account_id, 'https://ratetea.com/' + a['href'], a.text] for a in soup.select('a[href]') if a['href'].startswith('/review')]\n",
    "            \n",
    "            # add to list\n",
    "            all_tea_data += tea_data\n",
    "        \n",
    "        print(f'User {account_id} added successfully; {it} / {num_user_pages*10}')\n",
    "    except:\n",
    "        print(f'Encounter issue with user {account_id}')"
   ]
  },
  {
   "cell_type": "markdown",
   "id": "010bde04-9ee5-4c6c-a96f-f91100a0f098",
   "metadata": {},
   "source": [
    "<br></br>"
   ]
  },
  {
   "cell_type": "markdown",
   "id": "595363e5-f26f-44dc-8404-5eb962288fdd",
   "metadata": {},
   "source": [
    "# Save Tea and User data"
   ]
  },
  {
   "cell_type": "code",
   "execution_count": null,
   "id": "356a1a6b-3521-4c98-936b-b490a71b0d28",
   "metadata": {},
   "outputs": [],
   "source": [
    "with open('user_tea_pairs.csv', 'w', encoding='utf-8') as f:\n",
    "    write = csv.writer(f)\n",
    "    write.writerows(all_tea_data)"
   ]
  },
  {
   "cell_type": "code",
   "execution_count": null,
   "id": "2d81dcfa-8ee2-4d31-96d8-8f259a01d9f7",
   "metadata": {},
   "outputs": [],
   "source": [
    "df = pd.read_csv('user_tea_pairs.csv', delimiter=',', header=None)\n",
    "df"
   ]
  }
 ],
 "metadata": {
  "kernelspec": {
   "display_name": "Python 3 (ipykernel)",
   "language": "python",
   "name": "python3"
  },
  "language_info": {
   "codemirror_mode": {
    "name": "ipython",
    "version": 3
   },
   "file_extension": ".py",
   "mimetype": "text/x-python",
   "name": "python",
   "nbconvert_exporter": "python",
   "pygments_lexer": "ipython3",
   "version": "3.12.8"
  }
 },
 "nbformat": 4,
 "nbformat_minor": 5
}
