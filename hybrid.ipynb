{
 "cells": [
  {
   "cell_type": "code",
   "execution_count": 1,
   "id": "aa09a1fd-0c0a-4682-b326-3557d7d4e8b9",
   "metadata": {},
   "outputs": [],
   "source": [
    "import pandas as pd\n",
    "import numpy as np\n",
    "import random\n",
    "from sklearn.metrics.pairwise import cosine_similarity\n",
    "from sklearn.metrics import mean_squared_error\n",
    "from math import sqrt\n",
    "\n",
    "from sklearn.linear_model import LinearRegression"
   ]
  },
  {
   "cell_type": "markdown",
   "id": "985821ab-2ce7-4860-a80c-c44352ae19dd",
   "metadata": {},
   "source": [
    "# Collaborative Filtering"
   ]
  },
  {
   "cell_type": "code",
   "execution_count": 2,
   "id": "589200d3-79be-4511-a137-c76b639caccc",
   "metadata": {},
   "outputs": [
    {
     "name": "stdout",
     "output_type": "stream",
     "text": [
      "(49, 3547)\n"
     ]
    },
    {
     "data": {
      "text/html": [
       "<div>\n",
       "<style scoped>\n",
       "    .dataframe tbody tr th:only-of-type {\n",
       "        vertical-align: middle;\n",
       "    }\n",
       "\n",
       "    .dataframe tbody tr th {\n",
       "        vertical-align: top;\n",
       "    }\n",
       "\n",
       "    .dataframe thead th {\n",
       "        text-align: right;\n",
       "    }\n",
       "</style>\n",
       "<table border=\"1\" class=\"dataframe\">\n",
       "  <thead>\n",
       "    <tr style=\"text-align: right;\">\n",
       "      <th>Tea ID</th>\n",
       "      <th>0</th>\n",
       "      <th>1</th>\n",
       "      <th>2</th>\n",
       "      <th>3</th>\n",
       "      <th>4</th>\n",
       "      <th>5</th>\n",
       "      <th>6</th>\n",
       "      <th>7</th>\n",
       "      <th>8</th>\n",
       "      <th>9</th>\n",
       "      <th>...</th>\n",
       "      <th>3537</th>\n",
       "      <th>3538</th>\n",
       "      <th>3539</th>\n",
       "      <th>3540</th>\n",
       "      <th>3541</th>\n",
       "      <th>3542</th>\n",
       "      <th>3543</th>\n",
       "      <th>3544</th>\n",
       "      <th>3545</th>\n",
       "      <th>3546</th>\n",
       "    </tr>\n",
       "    <tr>\n",
       "      <th>Account Id</th>\n",
       "      <th></th>\n",
       "      <th></th>\n",
       "      <th></th>\n",
       "      <th></th>\n",
       "      <th></th>\n",
       "      <th></th>\n",
       "      <th></th>\n",
       "      <th></th>\n",
       "      <th></th>\n",
       "      <th></th>\n",
       "      <th></th>\n",
       "      <th></th>\n",
       "      <th></th>\n",
       "      <th></th>\n",
       "      <th></th>\n",
       "      <th></th>\n",
       "      <th></th>\n",
       "      <th></th>\n",
       "      <th></th>\n",
       "      <th></th>\n",
       "      <th></th>\n",
       "    </tr>\n",
       "  </thead>\n",
       "  <tbody>\n",
       "    <tr>\n",
       "      <th>1</th>\n",
       "      <td>0.0</td>\n",
       "      <td>0.0</td>\n",
       "      <td>90.0</td>\n",
       "      <td>82.0</td>\n",
       "      <td>0.0</td>\n",
       "      <td>84.0</td>\n",
       "      <td>0.0</td>\n",
       "      <td>0.0</td>\n",
       "      <td>0.0</td>\n",
       "      <td>80.0</td>\n",
       "      <td>...</td>\n",
       "      <td>0.0</td>\n",
       "      <td>0.0</td>\n",
       "      <td>53.0</td>\n",
       "      <td>0.0</td>\n",
       "      <td>0.0</td>\n",
       "      <td>0.0</td>\n",
       "      <td>0.0</td>\n",
       "      <td>67.0</td>\n",
       "      <td>0.0</td>\n",
       "      <td>0.0</td>\n",
       "    </tr>\n",
       "    <tr>\n",
       "      <th>20</th>\n",
       "      <td>0.0</td>\n",
       "      <td>0.0</td>\n",
       "      <td>0.0</td>\n",
       "      <td>0.0</td>\n",
       "      <td>0.0</td>\n",
       "      <td>0.0</td>\n",
       "      <td>0.0</td>\n",
       "      <td>0.0</td>\n",
       "      <td>0.0</td>\n",
       "      <td>0.0</td>\n",
       "      <td>...</td>\n",
       "      <td>0.0</td>\n",
       "      <td>0.0</td>\n",
       "      <td>0.0</td>\n",
       "      <td>0.0</td>\n",
       "      <td>0.0</td>\n",
       "      <td>0.0</td>\n",
       "      <td>0.0</td>\n",
       "      <td>0.0</td>\n",
       "      <td>0.0</td>\n",
       "      <td>0.0</td>\n",
       "    </tr>\n",
       "    <tr>\n",
       "      <th>21</th>\n",
       "      <td>0.0</td>\n",
       "      <td>0.0</td>\n",
       "      <td>0.0</td>\n",
       "      <td>0.0</td>\n",
       "      <td>0.0</td>\n",
       "      <td>0.0</td>\n",
       "      <td>0.0</td>\n",
       "      <td>0.0</td>\n",
       "      <td>0.0</td>\n",
       "      <td>0.0</td>\n",
       "      <td>...</td>\n",
       "      <td>0.0</td>\n",
       "      <td>0.0</td>\n",
       "      <td>0.0</td>\n",
       "      <td>0.0</td>\n",
       "      <td>0.0</td>\n",
       "      <td>0.0</td>\n",
       "      <td>0.0</td>\n",
       "      <td>0.0</td>\n",
       "      <td>53.0</td>\n",
       "      <td>0.0</td>\n",
       "    </tr>\n",
       "    <tr>\n",
       "      <th>23</th>\n",
       "      <td>0.0</td>\n",
       "      <td>0.0</td>\n",
       "      <td>0.0</td>\n",
       "      <td>0.0</td>\n",
       "      <td>0.0</td>\n",
       "      <td>0.0</td>\n",
       "      <td>0.0</td>\n",
       "      <td>0.0</td>\n",
       "      <td>0.0</td>\n",
       "      <td>0.0</td>\n",
       "      <td>...</td>\n",
       "      <td>0.0</td>\n",
       "      <td>0.0</td>\n",
       "      <td>0.0</td>\n",
       "      <td>0.0</td>\n",
       "      <td>0.0</td>\n",
       "      <td>0.0</td>\n",
       "      <td>0.0</td>\n",
       "      <td>0.0</td>\n",
       "      <td>0.0</td>\n",
       "      <td>0.0</td>\n",
       "    </tr>\n",
       "    <tr>\n",
       "      <th>25</th>\n",
       "      <td>0.0</td>\n",
       "      <td>0.0</td>\n",
       "      <td>0.0</td>\n",
       "      <td>0.0</td>\n",
       "      <td>0.0</td>\n",
       "      <td>0.0</td>\n",
       "      <td>0.0</td>\n",
       "      <td>0.0</td>\n",
       "      <td>0.0</td>\n",
       "      <td>0.0</td>\n",
       "      <td>...</td>\n",
       "      <td>0.0</td>\n",
       "      <td>0.0</td>\n",
       "      <td>0.0</td>\n",
       "      <td>0.0</td>\n",
       "      <td>0.0</td>\n",
       "      <td>67.0</td>\n",
       "      <td>0.0</td>\n",
       "      <td>77.0</td>\n",
       "      <td>0.0</td>\n",
       "      <td>0.0</td>\n",
       "    </tr>\n",
       "  </tbody>\n",
       "</table>\n",
       "<p>5 rows × 3547 columns</p>\n",
       "</div>"
      ],
      "text/plain": [
       "Tea ID      0     1     2     3     4     5     6     7     8     9     ...  \\\n",
       "Account Id                                                              ...   \n",
       "1            0.0   0.0  90.0  82.0   0.0  84.0   0.0   0.0   0.0  80.0  ...   \n",
       "20           0.0   0.0   0.0   0.0   0.0   0.0   0.0   0.0   0.0   0.0  ...   \n",
       "21           0.0   0.0   0.0   0.0   0.0   0.0   0.0   0.0   0.0   0.0  ...   \n",
       "23           0.0   0.0   0.0   0.0   0.0   0.0   0.0   0.0   0.0   0.0  ...   \n",
       "25           0.0   0.0   0.0   0.0   0.0   0.0   0.0   0.0   0.0   0.0  ...   \n",
       "\n",
       "Tea ID      3537  3538  3539  3540  3541  3542  3543  3544  3545  3546  \n",
       "Account Id                                                              \n",
       "1            0.0   0.0  53.0   0.0   0.0   0.0   0.0  67.0   0.0   0.0  \n",
       "20           0.0   0.0   0.0   0.0   0.0   0.0   0.0   0.0   0.0   0.0  \n",
       "21           0.0   0.0   0.0   0.0   0.0   0.0   0.0   0.0  53.0   0.0  \n",
       "23           0.0   0.0   0.0   0.0   0.0   0.0   0.0   0.0   0.0   0.0  \n",
       "25           0.0   0.0   0.0   0.0   0.0  67.0   0.0  77.0   0.0   0.0  \n",
       "\n",
       "[5 rows x 3547 columns]"
      ]
     },
     "execution_count": 2,
     "metadata": {},
     "output_type": "execute_result"
    }
   ],
   "source": [
    "tea_df = pd.read_csv('data/tea_data.csv')\n",
    "tea_df['Tea ID'] = tea_df['Tea Name'] + tea_df['Brand']\n",
    "tea_df['Tea ID'] = tea_df['Tea ID'].astype('category').cat.codes\n",
    "\n",
    "user_item_matrix = tea_df.pivot_table(\n",
    "    index='Account Id',\n",
    "    columns='Tea ID',\n",
    "    values='Total Rating')\n",
    "user_item_matrix_filled = user_item_matrix.fillna(0)\n",
    "print(user_item_matrix_filled.shape)\n",
    "user_item_matrix_filled.head()"
   ]
  },
  {
   "cell_type": "code",
   "execution_count": 3,
   "id": "6febd230-89df-43f7-b0e0-c2e263290f44",
   "metadata": {
    "scrolled": true
   },
   "outputs": [
    {
     "name": "stdout",
     "output_type": "stream",
     "text": [
      "Account Id        1         20        21        23        25\n",
      "Account Id                                                  \n",
      "1           1.000000  0.030373  0.061106  0.095619  0.119010\n",
      "20          0.030373  1.000000  0.089132  0.000000  0.015417\n",
      "21          0.061106  0.089132  1.000000  0.127890  0.061058\n",
      "23          0.095619  0.000000  0.127890  1.000000  0.100955\n",
      "25          0.119010  0.015417  0.061058  0.100955  1.000000\n"
     ]
    }
   ],
   "source": [
    "# uu similarity \n",
    "user_similarity = cosine_similarity(user_item_matrix_filled)\n",
    "user_sim_df = pd.DataFrame(\n",
    "    user_similarity,\n",
    "    index=user_item_matrix_filled.index,\n",
    "    columns=user_item_matrix_filled.index)\n",
    "\n",
    "print(user_sim_df.iloc[:5, :5])"
   ]
  },
  {
   "cell_type": "code",
   "execution_count": 4,
   "id": "dfafab47-f19c-4077-945b-4f1b6cedd8a9",
   "metadata": {},
   "outputs": [],
   "source": [
    "# predict tea rating\n",
    "def predict_rating_collab(user_id, tea_name, similarity, user_item_ratings, k=5):\n",
    "    if tea_name not in user_item_ratings.columns:\n",
    "        return np.nan\n",
    "    sim_scores = similarity.loc[user_id]\n",
    "    tea_ratings = user_item_ratings[tea_name]\n",
    "    mask = tea_ratings != 0\n",
    "    sim_scores = sim_scores[mask]\n",
    "    tea_ratings = tea_ratings[mask]\n",
    "    top_k_users = sim_scores.sort_values(ascending=False).head(k)\n",
    "    top_k_ratings = tea_ratings[top_k_users.index]\n",
    "    if top_k_users.sum() == 0: return np.nan\n",
    "    return np.dot(top_k_users, top_k_ratings) / top_k_users.sum()"
   ]
  },
  {
   "cell_type": "markdown",
   "id": "b2061141-38bf-4c1e-bc7f-a885d7702794",
   "metadata": {},
   "source": [
    "# Content-Based Filtering"
   ]
  },
  {
   "cell_type": "code",
   "execution_count": 5,
   "id": "fc2cefd2-e8dc-4dbc-9b12-11e895410cb5",
   "metadata": {},
   "outputs": [],
   "source": [
    "embeds = pd.read_csv(\"data/content_embeddings.csv\", header = None)\n",
    "embeds['Tea ID'] = tea_df['Tea ID']\n",
    "embeds = embeds.drop_duplicates(subset='Tea ID')\n",
    "embeds = embeds.set_index('Tea ID')"
   ]
  },
  {
   "cell_type": "code",
   "execution_count": 6,
   "id": "5da815a9-b30c-4587-b458-c7ca660608c5",
   "metadata": {},
   "outputs": [],
   "source": [
    "tea_matrix_content = embeds\n",
    "tea_names_content = embeds.index\n",
    "\n",
    "# cosine similarity \n",
    "tea_similarity_content = cosine_similarity(tea_matrix_content)\n",
    "tea_similarity_content = 1 - tea_similarity_content\n",
    "tea_similarity_content_df = pd.DataFrame(\n",
    "    tea_similarity_content,\n",
    "    index=embeds.index,\n",
    "    columns=embeds.index)"
   ]
  },
  {
   "cell_type": "code",
   "execution_count": 7,
   "id": "f7b2c6c5-9189-4433-8b75-ad6c26003812",
   "metadata": {},
   "outputs": [],
   "source": [
    "def predict_rating_content(user_id, tea_name, similarity, user_item_ratings, k=5):       \n",
    "    sim_scores = similarity.loc[tea_name]\n",
    "    user_ratings = user_item_ratings.loc[user_id, :]\n",
    "    mask = user_ratings != 0\n",
    "    sim_scores = sim_scores[mask]\n",
    "    user_ratings = user_ratings[mask]\n",
    "    top_k_items = sim_scores.sort_values(ascending=False).head(k)\n",
    "    top_k_ratings = user_ratings[top_k_items.index]\n",
    "    if top_k_items.sum() == 0: return np.nan\n",
    "    return np.dot(top_k_items, top_k_ratings) / top_k_items.sum()"
   ]
  },
  {
   "cell_type": "markdown",
   "id": "5aaafe9a-b93f-4d2a-a35b-4c0662954506",
   "metadata": {},
   "source": [
    "# Hybrid"
   ]
  },
  {
   "cell_type": "markdown",
   "id": "537df929-5ef3-4817-9533-a66c9f86112c",
   "metadata": {},
   "source": [
    "Prepare Data for Training and Testing"
   ]
  },
  {
   "cell_type": "code",
   "execution_count": 8,
   "id": "e372faf8-d649-4db4-9319-e15be9a4d29b",
   "metadata": {},
   "outputs": [],
   "source": [
    "# get ratings, tea, user data\n",
    "ratings_data = []\n",
    "for user in user_item_matrix_filled.index:\n",
    "    for tea in user_item_matrix_filled.columns:\n",
    "        rating = user_item_matrix_filled.loc[user, tea]\n",
    "        if rating != 0:\n",
    "            ratings_data.append((user, tea, rating))\n",
    "\n",
    "\n",
    "# train/test split\n",
    "random.seed(42)\n",
    "random.shuffle(ratings_data)\n",
    "split_idx = int(len(ratings_data) * 0.8)\n",
    "\n",
    "train_ratings = ratings_data[:split_idx]\n",
    "test_ratings = ratings_data[split_idx:]\n",
    "train_user_item_matrix = user_item_matrix_filled.copy()\n",
    "\n",
    "# prepare user_item rating matrix for training\n",
    "for user, tea, _ in test_ratings:\n",
    "    train_user_item_matrix.loc[user, tea] = 0\n",
    "\n",
    "\n",
    "train_similarity = cosine_similarity(train_user_item_matrix)\n",
    "train_sim_df = pd.DataFrame(\n",
    "    train_similarity,\n",
    "    index=train_user_item_matrix.index,\n",
    "    columns=train_user_item_matrix.index)"
   ]
  },
  {
   "cell_type": "markdown",
   "id": "b172ed81-b12d-4d6b-a4b7-742ce2d3c1ae",
   "metadata": {},
   "source": [
    "Generate Test Predictions"
   ]
  },
  {
   "cell_type": "code",
   "execution_count": 9,
   "id": "dc06e999-0d4d-48c6-a4c1-e1b3d995c9d0",
   "metadata": {},
   "outputs": [],
   "source": [
    "def combine_ratings_simple(collab_rating, content_rating, collab_w = .5):\n",
    "    return collab_rating * collab_w + content_rating * (1-collab_w)"
   ]
  },
  {
   "cell_type": "code",
   "execution_count": 10,
   "id": "b5a90bd6-636f-4a3d-b290-d728ae9ad1d9",
   "metadata": {},
   "outputs": [],
   "source": [
    "# finding rmse\n",
    "actuals = []\n",
    "preds = []\n",
    "preds_coll = []\n",
    "preds_cont = []\n",
    "for user, tea, actual_rating in test_ratings:\n",
    "    # get collaborative, content, and hybrid ratings\n",
    "    collab_pred_rating = predict_rating_collab(user, tea, train_sim_df, train_user_item_matrix)\n",
    "    content_pred_rating = predict_rating_content(user, tea, tea_similarity_content_df, train_user_item_matrix)\n",
    "    hybrid_pred_rating = combine_ratings_simple(collab_pred_rating, content_pred_rating, collab_w=.5)\n",
    "    \n",
    "    if not np.isnan(collab_pred_rating):\n",
    "        actuals.append(actual_rating)\n",
    "        preds.append(hybrid_pred_rating)\n",
    "        preds_coll.append(collab_pred_rating)\n",
    "        preds_cont.append(content_pred_rating)"
   ]
  },
  {
   "cell_type": "code",
   "execution_count": 11,
   "id": "47913cd0-ed76-42f1-a964-a3a89afed55f",
   "metadata": {},
   "outputs": [
    {
     "name": "stdout",
     "output_type": "stream",
     "text": [
      "RMSE on test collab: 17.0660\n",
      "RMSE on test content: 18.3908\n",
      "RMSE on test hybrid: 15.4167\n"
     ]
    }
   ],
   "source": [
    "rmse_collab = sqrt(mean_squared_error(actuals, preds_coll))\n",
    "rmse_content = sqrt(mean_squared_error(actuals, preds_cont))\n",
    "rmse_hybrid = sqrt(mean_squared_error(actuals, preds))\n",
    "print(f\"RMSE on test collab: {rmse_collab:.4f}\")\n",
    "print(f\"RMSE on test content: {rmse_content:.4f}\")\n",
    "print(f\"RMSE on test hybrid: {rmse_hybrid:.4f}\")"
   ]
  },
  {
   "cell_type": "markdown",
   "id": "01bb18b7-d851-4e63-9702-41ea6fe9e782",
   "metadata": {},
   "source": [
    "# Tea Recommendation"
   ]
  },
  {
   "cell_type": "code",
   "execution_count": 12,
   "id": "35d3e8d3-ce56-4a31-8bf3-5406c4ba78fb",
   "metadata": {},
   "outputs": [],
   "source": [
    "tea_name_lookup = tea_df[['Tea Name', 'Tea ID']].drop_duplicates()\n",
    "tea_name_lookup = tea_name_lookup.set_index('Tea ID')"
   ]
  },
  {
   "cell_type": "code",
   "execution_count": 13,
   "id": "2aa374ab-f3e9-4852-993e-289e3fb332f4",
   "metadata": {},
   "outputs": [],
   "source": [
    "# recommending top n teas\n",
    "def recommend_top_teas(user_id, similarity_coll, similarity_cont, user_item_ratings, n=5):\n",
    "    user_ratings = user_item_ratings.loc[user_id]\n",
    "    unrated_teas = user_ratings[user_ratings == 0].index\n",
    "    predicted_scores = {}\n",
    "    for tea in unrated_teas:\n",
    "        collab_pred_rating = predict_rating_collab(user, tea, similarity_coll, user_item_ratings)\n",
    "        content_pred_rating = predict_rating_content(user, tea, similarity_cont, user_item_ratings)\n",
    "        pred = combine_ratings_simple(collab_pred_rating, content_pred_rating)\n",
    "            \n",
    "        if not np.isnan(pred):\n",
    "            predicted_scores[tea] = pred\n",
    "    sorted_recs = sorted(predicted_scores.items(), key=lambda x: x[1], reverse=True)\n",
    "    teas = sorted_recs[:n]\n",
    "    for t in range(len(teas)):\n",
    "        teas[t] = (tea_name_lookup.loc[teas[t][0]].item(), round(teas[t][1], 3))\n",
    "    return teas"
   ]
  },
  {
   "cell_type": "code",
   "execution_count": 14,
   "id": "01951dc2-cbb5-4194-acb6-9d274aa499ec",
   "metadata": {},
   "outputs": [
    {
     "data": {
      "text/plain": [
       "[('Berries and Cherries', 89.334),\n",
       " ('Orchid Vanilla', 88.425),\n",
       " ('Green Tea Pomegranate', 88.202),\n",
       " ('Jinggu Golden Strand Pure Bud Yunnan Black Tea - Spring 2014', 88.175),\n",
       " ('Crane Monk - Light Oolong', 88.172)]"
      ]
     },
     "execution_count": 14,
     "metadata": {},
     "output_type": "execute_result"
    }
   ],
   "source": [
    "teas = recommend_top_teas(1, user_sim_df, tea_similarity_content_df, user_item_matrix_filled)\n",
    "teas"
   ]
  },
  {
   "cell_type": "code",
   "execution_count": null,
   "id": "cc04ff9d-bbe2-4fc1-9200-319336265a08",
   "metadata": {},
   "outputs": [],
   "source": []
  }
 ],
 "metadata": {
  "kernelspec": {
   "display_name": "Python 3 (ipykernel)",
   "language": "python",
   "name": "python3"
  },
  "language_info": {
   "codemirror_mode": {
    "name": "ipython",
    "version": 3
   },
   "file_extension": ".py",
   "mimetype": "text/x-python",
   "name": "python",
   "nbconvert_exporter": "python",
   "pygments_lexer": "ipython3",
   "version": "3.12.8"
  }
 },
 "nbformat": 4,
 "nbformat_minor": 5
}
